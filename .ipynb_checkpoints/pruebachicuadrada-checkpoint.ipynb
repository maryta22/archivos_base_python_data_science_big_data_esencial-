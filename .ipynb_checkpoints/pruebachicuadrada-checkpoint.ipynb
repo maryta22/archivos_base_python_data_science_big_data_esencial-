{
 "cells": [
  {
   "cell_type": "code",
   "execution_count": 1,
   "id": "d7112c65",
   "metadata": {},
   "outputs": [],
   "source": [
    "import pandas as pd\n",
    "import numpy as np\n",
    "from scipy.stats import chi2_contingency"
   ]
  },
  {
   "cell_type": "code",
   "execution_count": 2,
   "id": "7952b018",
   "metadata": {},
   "outputs": [],
   "source": [
    "df = pd.read_csv(\"base_datos_2008.csv\")"
   ]
  },
  {
   "cell_type": "code",
   "execution_count": 3,
   "id": "2dbc98ef",
   "metadata": {},
   "outputs": [],
   "source": [
    "np.random.seed(0)\n",
    "df = df[df[\"Origin\"].isin([\"HOU\",\"ATL\",\"IND\"])]\n",
    "df = df.sample(frac = 1)\n",
    "df = df[0:10000]"
   ]
  },
  {
   "cell_type": "code",
   "execution_count": 4,
   "id": "f027e6bc",
   "metadata": {},
   "outputs": [],
   "source": [
    "df[\"BigDelay\"] = df[\"ArrDelay\"] > 30\n",
    "observados = pd.crosstab(index = df['BigDelay'], columns = df['Origin'], margins = True)"
   ]
  },
  {
   "cell_type": "code",
   "execution_count": 5,
   "id": "7c315234",
   "metadata": {},
   "outputs": [
    {
     "data": {
      "text/html": [
       "<div>\n",
       "<style scoped>\n",
       "    .dataframe tbody tr th:only-of-type {\n",
       "        vertical-align: middle;\n",
       "    }\n",
       "\n",
       "    .dataframe tbody tr th {\n",
       "        vertical-align: top;\n",
       "    }\n",
       "\n",
       "    .dataframe thead th {\n",
       "        text-align: right;\n",
       "    }\n",
       "</style>\n",
       "<table border=\"1\" class=\"dataframe\">\n",
       "  <thead>\n",
       "    <tr style=\"text-align: right;\">\n",
       "      <th>Origin</th>\n",
       "      <th>ATL</th>\n",
       "      <th>HOU</th>\n",
       "      <th>IND</th>\n",
       "      <th>All</th>\n",
       "    </tr>\n",
       "    <tr>\n",
       "      <th>BigDelay</th>\n",
       "      <th></th>\n",
       "      <th></th>\n",
       "      <th></th>\n",
       "      <th></th>\n",
       "    </tr>\n",
       "  </thead>\n",
       "  <tbody>\n",
       "    <tr>\n",
       "      <th>False</th>\n",
       "      <td>6927</td>\n",
       "      <td>883</td>\n",
       "      <td>765</td>\n",
       "      <td>8575</td>\n",
       "    </tr>\n",
       "    <tr>\n",
       "      <th>True</th>\n",
       "      <td>1197</td>\n",
       "      <td>129</td>\n",
       "      <td>99</td>\n",
       "      <td>1425</td>\n",
       "    </tr>\n",
       "    <tr>\n",
       "      <th>All</th>\n",
       "      <td>8124</td>\n",
       "      <td>1012</td>\n",
       "      <td>864</td>\n",
       "      <td>10000</td>\n",
       "    </tr>\n",
       "  </tbody>\n",
       "</table>\n",
       "</div>"
      ],
      "text/plain": [
       "Origin     ATL   HOU  IND    All\n",
       "BigDelay                        \n",
       "False     6927   883  765   8575\n",
       "True      1197   129   99   1425\n",
       "All       8124  1012  864  10000"
      ]
     },
     "execution_count": 5,
     "metadata": {},
     "output_type": "execute_result"
    }
   ],
   "source": [
    "observados"
   ]
  },
  {
   "cell_type": "code",
   "execution_count": 6,
   "id": "bacd46f4",
   "metadata": {},
   "outputs": [],
   "source": [
    "test = chi2_contingency(observados)"
   ]
  },
  {
   "cell_type": "code",
   "execution_count": 7,
   "id": "88778171",
   "metadata": {},
   "outputs": [
    {
     "data": {
      "text/plain": [
       "(8.939538453043031,\n",
       " 0.17700704816414425,\n",
       " 6,\n",
       " array([[ 6966.33,   867.79,   740.88,  8575.  ],\n",
       "        [ 1157.67,   144.21,   123.12,  1425.  ],\n",
       "        [ 8124.  ,  1012.  ,   864.  , 10000.  ]]))"
      ]
     },
     "execution_count": 7,
     "metadata": {},
     "output_type": "execute_result"
    }
   ],
   "source": [
    "test"
   ]
  },
  {
   "cell_type": "code",
   "execution_count": 8,
   "id": "2142916d",
   "metadata": {},
   "outputs": [],
   "source": [
    "esperados = pd.DataFrame(test[3])"
   ]
  },
  {
   "cell_type": "code",
   "execution_count": 9,
   "id": "e71a2f79",
   "metadata": {},
   "outputs": [
    {
     "data": {
      "text/html": [
       "<div>\n",
       "<style scoped>\n",
       "    .dataframe tbody tr th:only-of-type {\n",
       "        vertical-align: middle;\n",
       "    }\n",
       "\n",
       "    .dataframe tbody tr th {\n",
       "        vertical-align: top;\n",
       "    }\n",
       "\n",
       "    .dataframe thead th {\n",
       "        text-align: right;\n",
       "    }\n",
       "</style>\n",
       "<table border=\"1\" class=\"dataframe\">\n",
       "  <thead>\n",
       "    <tr style=\"text-align: right;\">\n",
       "      <th></th>\n",
       "      <th>0</th>\n",
       "      <th>1</th>\n",
       "      <th>2</th>\n",
       "      <th>3</th>\n",
       "    </tr>\n",
       "  </thead>\n",
       "  <tbody>\n",
       "    <tr>\n",
       "      <th>0</th>\n",
       "      <td>6966.33</td>\n",
       "      <td>867.79</td>\n",
       "      <td>740.88</td>\n",
       "      <td>8575.0</td>\n",
       "    </tr>\n",
       "    <tr>\n",
       "      <th>1</th>\n",
       "      <td>1157.67</td>\n",
       "      <td>144.21</td>\n",
       "      <td>123.12</td>\n",
       "      <td>1425.0</td>\n",
       "    </tr>\n",
       "    <tr>\n",
       "      <th>2</th>\n",
       "      <td>8124.00</td>\n",
       "      <td>1012.00</td>\n",
       "      <td>864.00</td>\n",
       "      <td>10000.0</td>\n",
       "    </tr>\n",
       "  </tbody>\n",
       "</table>\n",
       "</div>"
      ],
      "text/plain": [
       "         0        1       2        3\n",
       "0  6966.33   867.79  740.88   8575.0\n",
       "1  1157.67   144.21  123.12   1425.0\n",
       "2  8124.00  1012.00  864.00  10000.0"
      ]
     },
     "execution_count": 9,
     "metadata": {},
     "output_type": "execute_result"
    }
   ],
   "source": [
    "esperados"
   ]
  },
  {
   "cell_type": "code",
   "execution_count": 10,
   "id": "bc81a716",
   "metadata": {},
   "outputs": [],
   "source": [
    "esperados_rel = round(esperados.apply(lambda r: r/len(df)*100, axis = 1),2)"
   ]
  },
  {
   "cell_type": "code",
   "execution_count": 11,
   "id": "2443c11a",
   "metadata": {},
   "outputs": [],
   "source": [
    "observados_rel = round(observados.apply(lambda r: r/len(df)*100, axis = 1),2)"
   ]
  },
  {
   "cell_type": "code",
   "execution_count": 12,
   "id": "d3e5bb5b",
   "metadata": {},
   "outputs": [
    {
     "data": {
      "text/html": [
       "<div>\n",
       "<style scoped>\n",
       "    .dataframe tbody tr th:only-of-type {\n",
       "        vertical-align: middle;\n",
       "    }\n",
       "\n",
       "    .dataframe tbody tr th {\n",
       "        vertical-align: top;\n",
       "    }\n",
       "\n",
       "    .dataframe thead th {\n",
       "        text-align: right;\n",
       "    }\n",
       "</style>\n",
       "<table border=\"1\" class=\"dataframe\">\n",
       "  <thead>\n",
       "    <tr style=\"text-align: right;\">\n",
       "      <th>Origin</th>\n",
       "      <th>ATL</th>\n",
       "      <th>HOU</th>\n",
       "      <th>IND</th>\n",
       "      <th>All</th>\n",
       "    </tr>\n",
       "    <tr>\n",
       "      <th>BigDelay</th>\n",
       "      <th></th>\n",
       "      <th></th>\n",
       "      <th></th>\n",
       "      <th></th>\n",
       "    </tr>\n",
       "  </thead>\n",
       "  <tbody>\n",
       "    <tr>\n",
       "      <th>False</th>\n",
       "      <td>69.27</td>\n",
       "      <td>8.83</td>\n",
       "      <td>7.65</td>\n",
       "      <td>85.75</td>\n",
       "    </tr>\n",
       "    <tr>\n",
       "      <th>True</th>\n",
       "      <td>11.97</td>\n",
       "      <td>1.29</td>\n",
       "      <td>0.99</td>\n",
       "      <td>14.25</td>\n",
       "    </tr>\n",
       "    <tr>\n",
       "      <th>All</th>\n",
       "      <td>81.24</td>\n",
       "      <td>10.12</td>\n",
       "      <td>8.64</td>\n",
       "      <td>100.00</td>\n",
       "    </tr>\n",
       "  </tbody>\n",
       "</table>\n",
       "</div>"
      ],
      "text/plain": [
       "Origin      ATL    HOU   IND     All\n",
       "BigDelay                            \n",
       "False     69.27   8.83  7.65   85.75\n",
       "True      11.97   1.29  0.99   14.25\n",
       "All       81.24  10.12  8.64  100.00"
      ]
     },
     "execution_count": 12,
     "metadata": {},
     "output_type": "execute_result"
    }
   ],
   "source": [
    "observados_rel"
   ]
  },
  {
   "cell_type": "code",
   "execution_count": 13,
   "id": "0f0286fe",
   "metadata": {},
   "outputs": [
    {
     "data": {
      "text/html": [
       "<div>\n",
       "<style scoped>\n",
       "    .dataframe tbody tr th:only-of-type {\n",
       "        vertical-align: middle;\n",
       "    }\n",
       "\n",
       "    .dataframe tbody tr th {\n",
       "        vertical-align: top;\n",
       "    }\n",
       "\n",
       "    .dataframe thead th {\n",
       "        text-align: right;\n",
       "    }\n",
       "</style>\n",
       "<table border=\"1\" class=\"dataframe\">\n",
       "  <thead>\n",
       "    <tr style=\"text-align: right;\">\n",
       "      <th></th>\n",
       "      <th>0</th>\n",
       "      <th>1</th>\n",
       "      <th>2</th>\n",
       "      <th>3</th>\n",
       "    </tr>\n",
       "  </thead>\n",
       "  <tbody>\n",
       "    <tr>\n",
       "      <th>0</th>\n",
       "      <td>69.66</td>\n",
       "      <td>8.68</td>\n",
       "      <td>7.41</td>\n",
       "      <td>85.75</td>\n",
       "    </tr>\n",
       "    <tr>\n",
       "      <th>1</th>\n",
       "      <td>11.58</td>\n",
       "      <td>1.44</td>\n",
       "      <td>1.23</td>\n",
       "      <td>14.25</td>\n",
       "    </tr>\n",
       "    <tr>\n",
       "      <th>2</th>\n",
       "      <td>81.24</td>\n",
       "      <td>10.12</td>\n",
       "      <td>8.64</td>\n",
       "      <td>100.00</td>\n",
       "    </tr>\n",
       "  </tbody>\n",
       "</table>\n",
       "</div>"
      ],
      "text/plain": [
       "       0      1     2       3\n",
       "0  69.66   8.68  7.41   85.75\n",
       "1  11.58   1.44  1.23   14.25\n",
       "2  81.24  10.12  8.64  100.00"
      ]
     },
     "execution_count": 13,
     "metadata": {},
     "output_type": "execute_result"
    }
   ],
   "source": [
    "esperados_rel"
   ]
  },
  {
   "cell_type": "code",
   "execution_count": 14,
   "id": "2642ce07",
   "metadata": {},
   "outputs": [
    {
     "data": {
      "text/plain": [
       "0.17700704816414425"
      ]
     },
     "execution_count": 14,
     "metadata": {},
     "output_type": "execute_result"
    }
   ],
   "source": [
    "test[1]"
   ]
  },
  {
   "cell_type": "code",
   "execution_count": 15,
   "id": "dbe6b31c",
   "metadata": {},
   "outputs": [],
   "source": [
    "#Resumen de Test de Hipótesis\n",
    "#Si el p-valor < 0.05, hay diferencias significativas: Hay relación entre variables\n",
    "#Si el p-valor > 0.05, no hay diferencias significativas: No hay relación entre variables"
   ]
  }
 ],
 "metadata": {
  "kernelspec": {
   "display_name": "Python 3 (ipykernel)",
   "language": "python",
   "name": "python3"
  },
  "language_info": {
   "codemirror_mode": {
    "name": "ipython",
    "version": 3
   },
   "file_extension": ".py",
   "mimetype": "text/x-python",
   "name": "python",
   "nbconvert_exporter": "python",
   "pygments_lexer": "ipython3",
   "version": "3.10.5"
  }
 },
 "nbformat": 4,
 "nbformat_minor": 5
}
